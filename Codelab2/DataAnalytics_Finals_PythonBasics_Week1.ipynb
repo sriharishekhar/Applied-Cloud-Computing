{
 "cells": [
  {
   "cell_type": "markdown",
   "metadata": {},
   "source": [
    "## Week 1"
   ]
  },
  {
   "cell_type": "code",
   "execution_count": 1,
   "metadata": {},
   "outputs": [
    {
     "data": {
      "text/html": [
       "<style>.container { width:100% !important; }</style>"
      ],
      "text/plain": [
       "<IPython.core.display.HTML object>"
      ]
     },
     "metadata": {},
     "output_type": "display_data"
    }
   ],
   "source": [
    "from IPython.display import * \n",
    "display(HTML(\"<style>.container { width:100% !important; }</style>\"))"
   ]
  },
  {
   "cell_type": "markdown",
   "metadata": {},
   "source": [
    "## String operations"
   ]
  },
  {
   "cell_type": "code",
   "execution_count": 2,
   "metadata": {},
   "outputs": [
    {
     "name": "stdout",
     "output_type": "stream",
     "text": [
      "srihari shekhar is a graduate student.\n",
      "SRIHARI SHEKHAR IS A GRADUATE STUDENT.\n",
      "Srihari shekhar is a graduate student.\n",
      "Srihari Shekhar Is A Graduate Student.\n"
     ]
    }
   ],
   "source": [
    "## lower / upper / capitalize / title\n",
    "\n",
    "string1 = 'Srihari sheKhar is a graduate Student.'\n",
    "print(string1.lower())\n",
    "print(string1.upper())\n",
    "print(string1.capitalize())\n",
    "print(string1.title())"
   ]
  },
  {
   "cell_type": "code",
   "execution_count": 5,
   "metadata": {},
   "outputs": [
    {
     "name": "stdout",
     "output_type": "stream",
     "text": [
      "['Srihari wants eat', ' play and watch the office.']\n",
      "['Srihari she', 'har is a graduate Student.']\n",
      "srihari..what\n"
     ]
    }
   ],
   "source": [
    "import string\n",
    "# split() / strip()\n",
    "\n",
    "string2 = 'Srihari wants eat, play and watch the office.'\n",
    "## split returns a list.\n",
    "print(string2.split(','))\n",
    "print(string1.split('K'))\n",
    "\n",
    "string3 = '...123srihari..what..,/12 '\n",
    "print(string3.strip(string.punctuation+string.digits+' '))"
   ]
  },
  {
   "cell_type": "code",
   "execution_count": 6,
   "metadata": {},
   "outputs": [
    {
     "name": "stdout",
     "output_type": "stream",
     "text": [
      "abcdefghijklmnopqrstuvwxyz\n",
      "0123456789\n",
      "!\"#$%&'()*+,-./:;<=>?@[\\]^_`{|}~\n"
     ]
    }
   ],
   "source": [
    "print(string.ascii_lowercase)\n",
    "print(string.digits)\n",
    "print(string.punctuation)"
   ]
  },
  {
   "cell_type": "markdown",
   "metadata": {},
   "source": [
    "## List"
   ]
  },
  {
   "cell_type": "code",
   "execution_count": 20,
   "metadata": {},
   "outputs": [
    {
     "name": "stdout",
     "output_type": "stream",
     "text": [
      "[90, 92, 94, 96, 98, 100]\n",
      "[90, 92, 94, 95, 96, 98, 100]\n",
      "[90, 92, 94, 95, 96, 98]\n",
      "[90, 92, 95, 96, 98]\n"
     ]
    }
   ],
   "source": [
    "# create and append\n",
    "marks = []\n",
    "for i in range(90, 101, 2):\n",
    "    marks.append(i)\n",
    "print(marks)\n",
    "\n",
    "# insert\n",
    "marks.insert(3, 95)\n",
    "print(marks)\n",
    "\n",
    "# pop\n",
    "marks.pop()\n",
    "print(marks)\n",
    "\n",
    "# delete\n",
    "del marks[2]\n",
    "print(marks)"
   ]
  },
  {
   "cell_type": "code",
   "execution_count": 24,
   "metadata": {},
   "outputs": [
    {
     "name": "stdout",
     "output_type": "stream",
     "text": [
      "95\n",
      "[90, 92, 95, 96, 98]\n"
     ]
    }
   ],
   "source": [
    "# indexing\n",
    "print(marks[2])\n",
    "\n",
    "# slicing\n",
    "print(marks[:])"
   ]
  },
  {
   "cell_type": "code",
   "execution_count": 35,
   "metadata": {},
   "outputs": [
    {
     "name": "stdout",
     "output_type": "stream",
     "text": [
      "[98, 96, 95, 92, 90]\n",
      "[98, 96, 95, 92, 90]\n",
      "\n",
      "[98, 96, 95, 92, 90]\n"
     ]
    }
   ],
   "source": [
    "#sorted - doesn't reflect in memory\n",
    "print(sorted(marks, reverse=True))\n",
    "print(marks)\n",
    "print()\n",
    "# sort\n",
    "marks.sort(reverse=True) ##reflects in memory\n",
    "print(marks)"
   ]
  },
  {
   "cell_type": "code",
   "execution_count": 37,
   "metadata": {},
   "outputs": [
    {
     "name": "stdout",
     "output_type": "stream",
     "text": [
      "5\n"
     ]
    }
   ],
   "source": [
    "# len\n",
    "print(len(marks))"
   ]
  },
  {
   "cell_type": "markdown",
   "metadata": {},
   "source": [
    "## if else"
   ]
  },
  {
   "cell_type": "code",
   "execution_count": 45,
   "metadata": {},
   "outputs": [
    {
     "name": "stdout",
     "output_type": "stream",
     "text": [
      "Enter your name: 1\n",
      "name entered starts with lowercase\n"
     ]
    }
   ],
   "source": [
    "name = input(\"Enter your name: \")\n",
    "try:\n",
    "    if name[0] == name[0].lower():\n",
    "        print('name entered starts with lowercase')\n",
    "    else:\n",
    "        print('name entered starts with uppercase')\n",
    "except:\n",
    "    print('wrong input')"
   ]
  },
  {
   "cell_type": "markdown",
   "metadata": {},
   "source": [
    "## loops"
   ]
  },
  {
   "cell_type": "code",
   "execution_count": 51,
   "metadata": {},
   "outputs": [
    {
     "name": "stdout",
     "output_type": "stream",
     "text": [
      "[0, 1, 2, 3, 4, 5, 6, 7, 8, 9]\n"
     ]
    }
   ],
   "source": [
    "# range(start, end, step)\n",
    "list1 = []\n",
    "for i in range(10):\n",
    "    list1.append(i)\n",
    "print(list1)"
   ]
  },
  {
   "cell_type": "code",
   "execution_count": 50,
   "metadata": {},
   "outputs": [
    {
     "name": "stdout",
     "output_type": "stream",
     "text": [
      "[0, 1, 2, 3, 4, 5, 6, 7, 8, 9]\n"
     ]
    }
   ],
   "source": [
    "list1 = list(range(10))\n",
    "print(list1)"
   ]
  },
  {
   "cell_type": "code",
   "execution_count": 52,
   "metadata": {},
   "outputs": [
    {
     "name": "stdout",
     "output_type": "stream",
     "text": [
      "46\n"
     ]
    }
   ],
   "source": [
    "# while - entry controlled loop\n",
    "\n",
    "x = 0\n",
    "a = 1\n",
    "while(x<10):\n",
    "    a += x\n",
    "    x += 1\n",
    "print(a)"
   ]
  },
  {
   "cell_type": "code",
   "execution_count": 54,
   "metadata": {},
   "outputs": [
    {
     "name": "stdout",
     "output_type": "stream",
     "text": [
      "apple   5\n",
      "Orange   6\n"
     ]
    }
   ],
   "source": [
    "# for loop\n",
    "\n",
    "fruits = ['Strawberry', 'apple', 'Orange', 'Watermelon']\n",
    "for fruit in fruits:\n",
    "    if fruit[0].lower() in ['a', 'e', 'i', 'o', 'u']:\n",
    "        print(fruit, ' ', len(fruit))"
   ]
  },
  {
   "cell_type": "markdown",
   "metadata": {},
   "source": [
    "## Tuple"
   ]
  },
  {
   "cell_type": "code",
   "execution_count": 69,
   "metadata": {},
   "outputs": [
    {
     "name": "stdout",
     "output_type": "stream",
     "text": [
      "5\n",
      "(5, 55)\n"
     ]
    }
   ],
   "source": [
    "# create\n",
    "t1 = (0, 1, 5)\n",
    "print(t1[2])\n",
    "\n",
    "list1 = [5, 55]\n",
    "t2 = tuple(list1)\n",
    "print(t2)\n",
    "\n",
    "# Tuples are immutable so we can't insert new element but we can create a new tuple\n",
    "\n",
    "# delete\n"
   ]
  },
  {
   "cell_type": "markdown",
   "metadata": {},
   "source": [
    "## set"
   ]
  },
  {
   "cell_type": "code",
   "execution_count": 80,
   "metadata": {},
   "outputs": [
    {
     "name": "stdout",
     "output_type": "stream",
     "text": [
      "{1, 43, 5, 9}\n",
      "{1, 5, 9, 10, 43}\n",
      "{5, 9, 10, 43}\n",
      "Value not present in the set.\n"
     ]
    }
   ],
   "source": [
    "s1 = {1, 1, 1, 5, 9, 1, 43, 5}\n",
    "print(s1)\n",
    "\n",
    "s1.add(10)\n",
    "print(s1)\n",
    "\n",
    "s1.discard(1) # returns none if the number is not present.\n",
    "print(s1)\n",
    "\n",
    "try:\n",
    "    s1.remove(1) # throws an exception if the value is not present.\n",
    "except:\n",
    "    print('Value not present in the set.')"
   ]
  },
  {
   "cell_type": "code",
   "execution_count": 82,
   "metadata": {},
   "outputs": [
    {
     "name": "stdout",
     "output_type": "stream",
     "text": [
      "{1, 2, 4, 5, 12, 23}\n",
      "<class 'list'>\n"
     ]
    }
   ],
   "source": [
    "# set from list\n",
    "list1 = [5, 1, 12, 2, 4, 4, 23, 1, 2]\n",
    "s1 = set(list1)\n",
    "print(s1)\n",
    "\n",
    "# list from set\n",
    "list1 = list(s1)\n",
    "print(type(list1))"
   ]
  },
  {
   "cell_type": "markdown",
   "metadata": {},
   "source": [
    "## Dictionary"
   ]
  },
  {
   "cell_type": "code",
   "execution_count": 107,
   "metadata": {},
   "outputs": [
    {
     "name": "stdout",
     "output_type": "stream",
     "text": [
      "<class 'dict'>\n",
      "['Srihari', 'Satyam', 'Surbhi', 'Shubham']\n",
      "dict_keys(['Name', 'PhoneNumber'])\n",
      "dict_values([['Srihari', 'Satyam', 'Surbhi', 'Shubham'], ['6507326582', '6506918196', '9910257950', '9910910990']])\n",
      "\n",
      "{'srihari': [99, 100, 95], 'satyam': [100, 100, 100], 'surbhi': [100, 99, 100], 'shubham': [99, 99, 100]}\n",
      "dict_keys(['srihari', 'satyam', 'surbhi', 'shubham'])\n",
      "dict_values([[99, 100, 95], [100, 100, 100], [100, 99, 100], [99, 99, 100]])\n",
      "\n",
      "{'srihari': [99, 95, 99], 'satyam': [100, 100, 100], 'surbhi': [99, 100, 100], 'shubham': [100, 99, 100]}\n",
      "dict_keys(['srihari', 'satyam', 'surbhi', 'shubham'])\n",
      "dict_values([[99, 95, 99], [100, 100, 100], [99, 100, 100], [100, 99, 100]])\n"
     ]
    }
   ],
   "source": [
    "## create\n",
    "phonebook = {'Name':['Srihari', 'Satyam', 'Surbhi', 'Shubham'],\n",
    "            'PhoneNumber':['6507326582', '6506918196', '9910257950', '9910910990']\n",
    "            }\n",
    "print(type(phonebook))\n",
    "print(phonebook['Name'])\n",
    "print(phonebook.keys())\n",
    "print(phonebook.values())\n",
    "print()\n",
    "\n",
    "## Method 2\n",
    "marks = {}\n",
    "marks['srihari'] = [99, 100, 95]\n",
    "marks['satyam'] = [100, 100, 100]\n",
    "marks['surbhi'] = [100, 99, 100]\n",
    "marks['shubham'] = [99, 99, 100]\n",
    "print(marks)\n",
    "print(marks.keys())\n",
    "print(marks.values())\n",
    "print()\n",
    "\n",
    "## \n",
    "grades = {'srihari':[99, 95, 99],\n",
    "         'satyam':[100, 100, 100],\n",
    "          'surbhi':[99, 100, 100],\n",
    "          'shubham':[100, 99, 100]\n",
    "         }\n",
    "print(grades)\n",
    "print(grades.keys())\n",
    "print(grades.values())"
   ]
  },
  {
   "cell_type": "code",
   "execution_count": 108,
   "metadata": {},
   "outputs": [
    {
     "name": "stdout",
     "output_type": "stream",
     "text": [
      "{'srihari': [99, 100, 95], 'satyam': [100, 100, 100], 'surbhi': [100, 99, 100], 'shubham': [99, 99, 100], 'Piku': [100, 100, 101], 'Marshal': [80, 80, 80]}\n"
     ]
    }
   ],
   "source": [
    "# insert in dict\n",
    "\n",
    "marks['Piku'] = [100, 100, 101]\n",
    "marks['Marshal'] = [80, 80, 80]\n",
    "print(marks)"
   ]
  },
  {
   "cell_type": "code",
   "execution_count": 109,
   "metadata": {},
   "outputs": [
    {
     "name": "stdout",
     "output_type": "stream",
     "text": [
      "{'satyam': [100, 100, 100], 'surbhi': [100, 99, 100], 'shubham': [99, 99, 100], 'Piku': [100, 100, 101], 'Marshal': [80, 80, 80]}\n",
      "{'satyam': [100, 100, 100], 'surbhi': [100, 99, 100], 'shubham': [99, 99, 100], 'Piku': [100, 100, 101]}\n"
     ]
    }
   ],
   "source": [
    "# delete in dict\n",
    "\n",
    "del marks['srihari']\n",
    "print(marks)\n",
    "marks.pop('Marshal')\n",
    "print(marks)"
   ]
  },
  {
   "cell_type": "code",
   "execution_count": 113,
   "metadata": {},
   "outputs": [
    {
     "name": "stdout",
     "output_type": "stream",
     "text": [
      "[100, 100, 101]\n",
      "[100, 100, 101]\n"
     ]
    }
   ],
   "source": [
    "# accessing \n",
    "\n",
    "print(marks['Piku'])\n",
    "\n",
    "print(marks.get('Piku'))"
   ]
  },
  {
   "cell_type": "code",
   "execution_count": 114,
   "metadata": {},
   "outputs": [],
   "source": [
    "# find average for each person in dict marks\n"
   ]
  },
  {
   "cell_type": "code",
   "execution_count": 118,
   "metadata": {},
   "outputs": [
    {
     "name": "stdout",
     "output_type": "stream",
     "text": [
      "surbhi : [100, 99, 100]\n",
      "shubham : [99, 99, 100]\n",
      "satyam : [100, 100, 100]\n",
      "Piku : [100, 100, 101]\n",
      "\n",
      "Piku : [100, 100, 101]\n",
      "satyam : [100, 100, 100]\n",
      "surbhi : [100, 99, 100]\n",
      "shubham : [99, 99, 100]\n"
     ]
    }
   ],
   "source": [
    "# sort dictionary\n",
    "\n",
    "## by key\n",
    "for i in sorted(marks, reverse=True):\n",
    "    print(i, ':', marks[i])\n",
    "    \n",
    "print()\n",
    "\n",
    "## by value\n",
    "for i in sorted(marks, key=marks.get, reverse=True):\n",
    "    print(i, ':', marks[i])"
   ]
  },
  {
   "cell_type": "markdown",
   "metadata": {},
   "source": [
    "## Functional python\n",
    "    - List comprehension\n",
    "    - Lambda expressions\n",
    "    - Maps\n",
    "    - Filter\n",
    "    - Datetime module"
   ]
  },
  {
   "cell_type": "code",
   "execution_count": 128,
   "metadata": {},
   "outputs": [
    {
     "name": "stdout",
     "output_type": "stream",
     "text": [
      "['orange', 'apple']\n"
     ]
    }
   ],
   "source": [
    "# List comprehension\n",
    "\n",
    "fruits = ['orange', 'apple', 'Watermelon', 'strawberry']\n",
    "list2 = [fruit for fruit in fruits if fruit[0].lower() in ['a','e','i','o','u']]\n",
    "print(list2)"
   ]
  },
  {
   "cell_type": "code",
   "execution_count": null,
   "metadata": {},
   "outputs": [],
   "source": [
    "# lambda expression\n",
    "\n"
   ]
  },
  {
   "cell_type": "code",
   "execution_count": null,
   "metadata": {},
   "outputs": [],
   "source": []
  },
  {
   "cell_type": "code",
   "execution_count": null,
   "metadata": {},
   "outputs": [],
   "source": []
  },
  {
   "cell_type": "code",
   "execution_count": null,
   "metadata": {},
   "outputs": [],
   "source": []
  },
  {
   "cell_type": "code",
   "execution_count": null,
   "metadata": {},
   "outputs": [],
   "source": []
  },
  {
   "cell_type": "code",
   "execution_count": null,
   "metadata": {},
   "outputs": [],
   "source": []
  },
  {
   "cell_type": "code",
   "execution_count": null,
   "metadata": {},
   "outputs": [],
   "source": []
  },
  {
   "cell_type": "code",
   "execution_count": null,
   "metadata": {},
   "outputs": [],
   "source": []
  },
  {
   "cell_type": "code",
   "execution_count": null,
   "metadata": {},
   "outputs": [],
   "source": []
  },
  {
   "cell_type": "code",
   "execution_count": null,
   "metadata": {},
   "outputs": [],
   "source": []
  }
 ],
 "metadata": {
  "kernelspec": {
   "display_name": "Python 3",
   "language": "python",
   "name": "python3"
  },
  "language_info": {
   "codemirror_mode": {
    "name": "ipython",
    "version": 3
   },
   "file_extension": ".py",
   "mimetype": "text/x-python",
   "name": "python",
   "nbconvert_exporter": "python",
   "pygments_lexer": "ipython3",
   "version": "3.8.5"
  }
 },
 "nbformat": 4,
 "nbformat_minor": 4
}
